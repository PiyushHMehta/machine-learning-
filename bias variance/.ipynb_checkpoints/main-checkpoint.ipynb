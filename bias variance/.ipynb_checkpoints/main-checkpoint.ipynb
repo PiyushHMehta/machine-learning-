{
 "cells": [
  {
   "cell_type": "raw",
   "id": "d2fcbba2",
   "metadata": {},
   "source": [
    "Bias\n",
    "Bias refers to the error introduced by approximating a real-world problem, which may be complex, by a simplified model. It represents the assumptions made by the model to make the target function easier to learn.\n",
    "High Bias: A model with high bias pays very little attention to the training data and oversimplifies the model. This usually leads to underfitting, where the model performs poorly on both training and testing data because it fails to capture the underlying patterns of the data.\n",
    "Low Bias: A model with low bias makes fewer assumptions about the data, potentially capturing more complex patterns.\n",
    "\n",
    "Variance\n",
    "Variance refers to the error introduced by the model's sensitivity to the small fluctuations in the training data. It measures how much the model's predictions would change if it were trained on different training data.\n",
    "High Variance: A model with high variance pays a lot of attention to the training data and learns the noise as if it were a true signal. This usually leads to overfitting, where the model performs well on the training data but poorly on the testing data because it captures the noise in the training data.\n",
    "Low Variance: A model with low variance produces similar predictions regardless of the particular training data.\n",
    "\n",
    "High Bias, Low Variance: The model predictions are consistent but inaccurate on average.\n",
    "Low Bias, High Variance: The model predictions are accurate on average but inconsistent.\n",
    "Low Bias, Low Variance: The ideal scenario where the model predictions are accurate and consistent."
   ]
  }
 ],
 "metadata": {
  "kernelspec": {
   "display_name": "Python 3 (ipykernel)",
   "language": "python",
   "name": "python3"
  },
  "language_info": {
   "codemirror_mode": {
    "name": "ipython",
    "version": 3
   },
   "file_extension": ".py",
   "mimetype": "text/x-python",
   "name": "python",
   "nbconvert_exporter": "python",
   "pygments_lexer": "ipython3",
   "version": "3.11.5"
  }
 },
 "nbformat": 4,
 "nbformat_minor": 5
}
