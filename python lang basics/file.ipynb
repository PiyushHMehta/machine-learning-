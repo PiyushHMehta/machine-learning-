{
 "cells": [
  {
   "cell_type": "markdown",
   "id": "88cf4c5a",
   "metadata": {},
   "source": [
    "# types\n",
    "\n",
    "## 1. text: .txt, .docx, .log\n",
    "## 2. binary: .mp4, .png, .jpeg, .mov"
   ]
  },
  {
   "cell_type": "code",
   "execution_count": 3,
   "id": "dacf58f0",
   "metadata": {},
   "outputs": [],
   "source": [
    "# basic operations\n",
    "\n",
    "# 1. open\n",
    "file = open(\"demo.txt\")\n",
    "\n",
    "# filename, mode\n",
    "# mode: read(by default) / write"
   ]
  },
  {
   "cell_type": "code",
   "execution_count": 2,
   "id": "51e89564",
   "metadata": {},
   "outputs": [
    {
     "name": "stdout",
     "output_type": "stream",
     "text": [
      "The sun was setting behind the distant hills, casting a golden glow across the tranquil lake. Birds chirped softly as they settled into their nests, and a gentle breeze rustled the leaves of the tall oak trees lining the shore.\n"
     ]
    }
   ],
   "source": [
    "data = file.read()\n",
    "\n",
    "print(data)"
   ]
  },
  {
   "cell_type": "code",
   "execution_count": 5,
   "id": "0c6e1c2b",
   "metadata": {},
   "outputs": [],
   "source": [
    "file.close()\n",
    "# good practice"
   ]
  },
  {
   "cell_type": "code",
   "execution_count": 9,
   "id": "b64e0177",
   "metadata": {},
   "outputs": [
    {
     "name": "stdout",
     "output_type": "stream",
     "text": [
      "It is a truth universally acknowledged, that a single man in possession of a good fortune, must be in want of a wife. However little known the feelings or views of such a man may be on his first entering a neighbourhood, this truth is so well fixed in the minds of the surrounding families, that he is considered as the rightful property of some one or other of their daughters.\n",
      "War is peace. Freedom is slavery. Ignorance is strength.\n"
     ]
    }
   ],
   "source": [
    "# reading a file\n",
    "\n",
    "file = open(\"demo.txt\")\n",
    "line1 = file.readline()\n",
    "print(line1)"
   ]
  },
  {
   "cell_type": "code",
   "execution_count": 12,
   "id": "dd3ad685",
   "metadata": {},
   "outputs": [
    {
     "name": "stdout",
     "output_type": "stream",
     "text": [
      "It is a truth universally acknowledged, that a single man in possession of a good fortune, must be in want of a wife. However little known the feelings or views of such a man may be on his first entering a neighbourhood, this truth is so well fixed in the minds of the surrounding families, that he is considered as the rightful property of some one or other of their daughters.\n",
      "War is peace. Freedom is slavery. Ignorance is strength.\n"
     ]
    }
   ],
   "source": [
    "# Open the file in read mode\n",
    "with open('demo.txt', 'r') as file:\n",
    "    # Iterate over each line in the file\n",
    "    for line in file:\n",
    "        # Process each line as needed\n",
    "        print(line.strip())  # .strip() removes any trailing newline characters\n",
    "\n",
    "        \n",
    "# automatically closes file"
   ]
  },
  {
   "cell_type": "code",
   "execution_count": 15,
   "id": "82865e29",
   "metadata": {},
   "outputs": [
    {
     "data": {
      "text/plain": [
       "20"
      ]
     },
     "execution_count": 15,
     "metadata": {},
     "output_type": "execute_result"
    }
   ],
   "source": [
    "# writing\n",
    "\n",
    "# w: overwrite\n",
    "# a: append\n",
    "\n",
    "file = open(\"demo.txt\", \"w\")\n",
    "file.write(\"Overwriting the file\")"
   ]
  },
  {
   "cell_type": "code",
   "execution_count": 16,
   "id": "0944789a",
   "metadata": {},
   "outputs": [],
   "source": [
    "# alternate\n",
    "\n",
    "with open(\"demo.txt\", \"w\") as file:\n",
    "    file.write(\"Overwriting the file\")"
   ]
  },
  {
   "cell_type": "code",
   "execution_count": 17,
   "id": "b4d1070e",
   "metadata": {},
   "outputs": [],
   "source": [
    "file = open(\"demo.txt\", \"a\")\n",
    "file.write(\"\\nThis is appended data\")\n",
    "file.close()"
   ]
  },
  {
   "cell_type": "code",
   "execution_count": 19,
   "id": "1770fe8f",
   "metadata": {},
   "outputs": [],
   "source": [
    "file = open(\"Sample.pdf\", \"a\")\n",
    "file.write(\"War is peace. Freedom is slavery. Ignorance is strength.\")\n",
    "file.close()"
   ]
  },
  {
   "cell_type": "code",
   "execution_count": 20,
   "id": "78408d58",
   "metadata": {},
   "outputs": [
    {
     "name": "stdout",
     "output_type": "stream",
     "text": [
      "sample.pdf has been deleted.\n"
     ]
    }
   ],
   "source": [
    "import os\n",
    "\n",
    "# Specify the file path\n",
    "file_path = \"sample.pdf\"\n",
    "\n",
    "# Check if the file exists before attempting to delete\n",
    "if os.path.exists(file_path):\n",
    "    # Delete the file\n",
    "    os.remove(file_path)\n",
    "    print(f\"{file_path} has been deleted.\")\n",
    "else:\n",
    "    print(f\"{file_path} does not exist.\")\n"
   ]
  },
  {
   "cell_type": "code",
   "execution_count": 22,
   "id": "b15f6688",
   "metadata": {},
   "outputs": [],
   "source": [
    "# reading writing: r+, w+(file truncated), a+\n",
    "\n",
    "file = open(\"demo.txt\", \"r+\")\n",
    "# the pointer points at the start, since we wrote here 3 chars, the first 3 chars were overwritten\n",
    "file.write(\"abc\")\n",
    "\n",
    "file.close()"
   ]
  },
  {
   "cell_type": "code",
   "execution_count": 23,
   "id": "478b337a",
   "metadata": {},
   "outputs": [],
   "source": [
    "file = open(\"demo.txt\", \"w+\")\n",
    "# everything got truncated, now file contains \"abc\", can be read too\n",
    "file.write(\"abc\")\n",
    "file.close()"
   ]
  },
  {
   "cell_type": "code",
   "execution_count": 24,
   "id": "11859dbe",
   "metadata": {},
   "outputs": [],
   "source": [
    "file = open(\"demo.txt\", \"a+\")\n",
    "file.write(\"\\npqr\")\n",
    "# stream is positioned at the end of the file\n",
    "file.close()"
   ]
  },
  {
   "cell_type": "code",
   "execution_count": 25,
   "id": "811e21a7",
   "metadata": {},
   "outputs": [],
   "source": [
    "# create a new file\n",
    "\n",
    "with open(\"practice.txt\", \"a\") as file:\n",
    "    file.write(\"Hi everyone. \\nWe are learning File I/O. \\nI like programming in java.\")"
   ]
  },
  {
   "cell_type": "code",
   "execution_count": 27,
   "id": "999d2810",
   "metadata": {},
   "outputs": [
    {
     "name": "stdout",
     "output_type": "stream",
     "text": [
      "Replacement completed. Check modified_practice.txt for the updated content.\n"
     ]
    }
   ],
   "source": [
    "# replacing all occurences of java with python and storing in new file\n",
    "\n",
    "with open(\"practice.txt\", \"r\") as file:\n",
    "    original_content = file.read()\n",
    "    \n",
    "modified_content = original_content.replace(\"java\", \"python\")\n",
    "\n",
    "with open(\"modified_practice.txt\", \"w\") as file:\n",
    "    file.write(modified_content)\n",
    "\n",
    "print(\"Replacement completed. Check modified_practice.txt for the updated content.\")"
   ]
  },
  {
   "cell_type": "code",
   "execution_count": 30,
   "id": "da4e4d6c",
   "metadata": {},
   "outputs": [
    {
     "name": "stdout",
     "output_type": "stream",
     "text": [
      "Word found\n"
     ]
    }
   ],
   "source": [
    "# search if word learning exists\n",
    "\n",
    "with open(\"practice.txt\", \"r\") as file:\n",
    "    data = file.read()\n",
    "    if(data.find(\"learning\") != -1):\n",
    "        print(\"Word found\")\n",
    "    else:\n",
    "        print(\"Word not found\")\n",
    "    \n",
    "    \n",
    "# if \"learning\" in original_content:\n",
    "#     print(\"Word found\")\n",
    "# else:\n",
    "#     print(\"Word not found\")"
   ]
  },
  {
   "cell_type": "code",
   "execution_count": 49,
   "id": "ee9af97f",
   "metadata": {},
   "outputs": [
    {
     "name": "stdout",
     "output_type": "stream",
     "text": [
      "2\n"
     ]
    }
   ],
   "source": [
    "# check for line where learning occurs first\n",
    "\n",
    "def firstOccurenceLine(word):\n",
    "    with open(\"practice.txt\", \"r\") as file:\n",
    "        lineNum = 0\n",
    "        for line in file:\n",
    "            lineNum += 1\n",
    "            if(word in line):\n",
    "                return lineNum\n",
    "    \n",
    "    return -1\n",
    "    # word not found\n",
    "    \n",
    "    \n",
    "lineNum = firstOccurenceLine(\"I/O\")\n",
    "print(lineNum)"
   ]
  },
  {
   "cell_type": "code",
   "execution_count": 54,
   "id": "1b7043b9",
   "metadata": {},
   "outputs": [
    {
     "name": "stdout",
     "output_type": "stream",
     "text": [
      "2\n",
      "3\n"
     ]
    }
   ],
   "source": [
    "# read nums from file seperated by comma, and find even odd nums\n",
    "# 1, 5, 10, 15, 20\n",
    "\n",
    "even = 0\n",
    "odd = 0\n",
    "\n",
    "with open(\"practice.txt\", \"r\") as file:\n",
    "    data = file.read().split(\",\")\n",
    "    for num in data:\n",
    "        num = int(num.strip())\n",
    "        if num % 2 == 0:\n",
    "            even += 1\n",
    "        else:\n",
    "            odd += 1\n",
    "\n",
    "print(even)\n",
    "print(odd)"
   ]
  },
  {
   "cell_type": "code",
   "execution_count": null,
   "id": "20f3585e",
   "metadata": {},
   "outputs": [],
   "source": []
  }
 ],
 "metadata": {
  "kernelspec": {
   "display_name": "Python 3 (ipykernel)",
   "language": "python",
   "name": "python3"
  },
  "language_info": {
   "codemirror_mode": {
    "name": "ipython",
    "version": 3
   },
   "file_extension": ".py",
   "mimetype": "text/x-python",
   "name": "python",
   "nbconvert_exporter": "python",
   "pygments_lexer": "ipython3",
   "version": "3.12.4"
  }
 },
 "nbformat": 4,
 "nbformat_minor": 5
}
