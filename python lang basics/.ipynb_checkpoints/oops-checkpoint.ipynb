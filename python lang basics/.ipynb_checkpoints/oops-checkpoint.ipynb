{
 "cells": [
  {
   "cell_type": "code",
   "execution_count": 1,
   "id": "d745772f",
   "metadata": {},
   "outputs": [],
   "source": [
    "class Student:\n",
    "    name = \"Piyush\""
   ]
  },
  {
   "cell_type": "code",
   "execution_count": 4,
   "id": "3308fbba",
   "metadata": {},
   "outputs": [
    {
     "name": "stdout",
     "output_type": "stream",
     "text": [
      "<__main__.Student object at 0x000001CE45460550>\n",
      "Piyush\n"
     ]
    }
   ],
   "source": [
    "s1 = Student()\n",
    "print(s1)\n",
    "print(s1.name)"
   ]
  },
  {
   "cell_type": "code",
   "execution_count": 6,
   "id": "6c4aeaf5",
   "metadata": {},
   "outputs": [
    {
     "name": "stdout",
     "output_type": "stream",
     "text": [
      "Blue\n",
      "gtx-6\n"
     ]
    }
   ],
   "source": [
    "class Car:\n",
    "    color = \"Blue\"\n",
    "    model = \"gtx-6\"\n",
    "    \n",
    "car1 = Car()\n",
    "print(car1.color)\n",
    "print(car1.model)"
   ]
  },
  {
   "cell_type": "code",
   "execution_count": 14,
   "id": "1700cc02",
   "metadata": {},
   "outputs": [
    {
     "name": "stdout",
     "output_type": "stream",
     "text": [
      "Piyush\n",
      "s.p.i.t.\n",
      "Hello Rahil\n"
     ]
    }
   ],
   "source": [
    "class Student:\n",
    "    \n",
    "    college_name = \"s.p.i.t.\"\n",
    "    # class attribute\n",
    "    \n",
    "    # constructor\n",
    "    def __init__(self, name):\n",
    "        self.name = name\n",
    "        # instance attribute\n",
    "        \n",
    "    def hello(self):\n",
    "        print(f\"Hello {self.name}\")\n",
    "    \n",
    "# creating objects\n",
    "s1 = Student(\"Piyush\")\n",
    "s2 = Student(\"Rahil\")\n",
    "\n",
    "\n",
    "print(s1.name)\n",
    "print(Student.college_name)\n",
    "s2.hello()"
   ]
  },
  {
   "cell_type": "code",
   "execution_count": 25,
   "id": "0932f522",
   "metadata": {},
   "outputs": [],
   "source": [
    "class Student:\n",
    "    def __init__(self, name, marks1, marks2, marks3):\n",
    "        self.name = name\n",
    "        self.marks1 = marks1        \n",
    "        self.marks2 = marks2\n",
    "        self.marks3 = marks3\n",
    "\n",
    "    def getAverage(self):\n",
    "        avg = (self.marks1 + self.marks2 + self.marks3) / 3\n",
    "        self.printAverage(avg)\n",
    "        return\n",
    "    \n",
    "    def printAverage(self, avg):\n",
    "        avg_formatted = format(avg, \".2f\")\n",
    "        print(f\"{self.name} has an average of {avg_formatted} marks\")"
   ]
  },
  {
   "cell_type": "code",
   "execution_count": 26,
   "id": "3e199a3f",
   "metadata": {},
   "outputs": [
    {
     "name": "stdout",
     "output_type": "stream",
     "text": [
      "Piyush has an average of 94.67 marks\n"
     ]
    }
   ],
   "source": [
    "s1 = Student(\"Piyush\", 92, 94, 98)\n",
    "s1.getAverage()"
   ]
  },
  {
   "cell_type": "code",
   "execution_count": 31,
   "id": "a7d175eb",
   "metadata": {},
   "outputs": [
    {
     "name": "stdout",
     "output_type": "stream",
     "text": [
      "Average is 94.66666666666667\n"
     ]
    }
   ],
   "source": [
    "class Student:\n",
    "    def __init__(self, name, marks):\n",
    "        self.name = name\n",
    "        self.marks = marks\n",
    "        \n",
    "    def get_avg(self):\n",
    "        sum = 0\n",
    "        for mark in self.marks:\n",
    "            sum += mark\n",
    "        \n",
    "        print(f\"Average is {sum/3}\")\n",
    "        \n",
    "    @staticmethod   # decorator\n",
    "    def hello():\n",
    "        print(\"Hello\")\n",
    "    # static methods\n",
    "    \n",
    "s1 = Student(\"Piyush\", [92, 94, 98])\n",
    "s1.get_avg()"
   ]
  },
  {
   "cell_type": "code",
   "execution_count": 32,
   "id": "60f9c8c7",
   "metadata": {},
   "outputs": [],
   "source": [
    "# abstraction\n",
    "\n",
    "class Car:\n",
    "    def __init__(self):\n",
    "        self.acc = False\n",
    "        self.brake = False\n",
    "        self.clutch = False\n",
    "        \n",
    "    def start(self):\n",
    "        self.acc = True\n",
    "        self.brake = False\n",
    "        self.clutch = True\n",
    "        print(\"Car started\")\n",
    "        \n",
    "    def stop(self):\n",
    "        self.acc = False\n",
    "        self.brake = True\n",
    "        self.clutch = False\n",
    "        print(\"Car stopped\")"
   ]
  },
  {
   "cell_type": "code",
   "execution_count": 34,
   "id": "c2a6c979",
   "metadata": {},
   "outputs": [
    {
     "name": "stdout",
     "output_type": "stream",
     "text": [
      "Car started\n",
      "Car stopped\n"
     ]
    }
   ],
   "source": [
    "car1 = Car()\n",
    "\n",
    "car1.start()\n",
    "car1.stop()"
   ]
  },
  {
   "cell_type": "code",
   "execution_count": 2,
   "id": "47c736c8",
   "metadata": {},
   "outputs": [],
   "source": [
    "class Account:\n",
    "    def __init__(self, accountNum, balance):\n",
    "        self.accountNum = accountNum\n",
    "        self.balance = balance\n",
    "        \n",
    "    def debit(self, money):\n",
    "        if(money <= int(self.balance)):\n",
    "            self.balance -= money\n",
    "            print(f\"₹{money} debited successfully\")\n",
    "        else:\n",
    "            print(f\"Unsufficient balance\")\n",
    "            \n",
    "        self.printBalance()\n",
    "        \n",
    "    def credit(self, money):\n",
    "        self.balance += money\n",
    "        print(f\"₹{money} credited successfully\")\n",
    "            \n",
    "        self.printBalance()\n",
    "        \n",
    "    def printBalance(self):\n",
    "        print(f\"You have ₹{self.balance} in your account\")"
   ]
  },
  {
   "cell_type": "code",
   "execution_count": 3,
   "id": "89282e95",
   "metadata": {},
   "outputs": [
    {
     "name": "stdout",
     "output_type": "stream",
     "text": [
      "₹200 debited successfully\n",
      "You have ₹300 in your account\n"
     ]
    }
   ],
   "source": [
    "acc1 = Account(\"abc798sn\", 500)\n",
    "acc1.debit(200)"
   ]
  },
  {
   "cell_type": "code",
   "execution_count": 1,
   "id": "d7adfa59",
   "metadata": {},
   "outputs": [],
   "source": [
    "class Student:\n",
    "    def __init__(self, name):\n",
    "        self.name = name\n",
    "        \n",
    "s1 = Student(\"Piyush\")"
   ]
  },
  {
   "cell_type": "code",
   "execution_count": 2,
   "id": "cc8fccf5",
   "metadata": {},
   "outputs": [],
   "source": [
    "del(s1)\n",
    "\n",
    "# s1\n",
    "# s1 is deleted, will give error"
   ]
  },
  {
   "cell_type": "code",
   "execution_count": 11,
   "id": "faf1b913",
   "metadata": {},
   "outputs": [],
   "source": [
    "# private(like) attributes and methods\n",
    "\n",
    "class Account:\n",
    "    def __init__(self, accNum, password):\n",
    "        self.accNum = accNum\n",
    "        self.__password = password\n",
    "        # should be private: __password to make it private\n",
    "        \n",
    "    def resetPassword(self):\n",
    "        print(self.__password)\n",
    "        \n",
    "acc1 = Account(123, \"andbkj\")"
   ]
  },
  {
   "cell_type": "code",
   "execution_count": 12,
   "id": "977724ab",
   "metadata": {},
   "outputs": [
    {
     "name": "stdout",
     "output_type": "stream",
     "text": [
      "123\n",
      "andbkj\n"
     ]
    }
   ],
   "source": [
    "print(acc1.accNum)\n",
    "# print(acc1.password)\n",
    "# will give error, can't access outside class\n",
    "\n",
    "acc1.resetPassword()"
   ]
  },
  {
   "cell_type": "code",
   "execution_count": 21,
   "id": "2010d5f5",
   "metadata": {},
   "outputs": [
    {
     "name": "stdout",
     "output_type": "stream",
     "text": [
      "anonymous\n",
      "hello anonymous\n"
     ]
    }
   ],
   "source": [
    "class Person:\n",
    "    __name = \"anonymous\"\n",
    "    \n",
    "    def __hello(self):\n",
    "        print(f\"hello {self.__name}\")\n",
    "    \n",
    "    def welcome(self):\n",
    "        self.__hello()\n",
    "        \n",
    "p1 = Person()\n",
    "print(p1._Person__name)\n",
    "p1.welcome()"
   ]
  },
  {
   "cell_type": "code",
   "execution_count": 27,
   "id": "0f16ad87",
   "metadata": {},
   "outputs": [
    {
     "name": "stdout",
     "output_type": "stream",
     "text": [
      "Fortuner\n",
      "Car started\n",
      "None\n",
      "black\n"
     ]
    }
   ],
   "source": [
    "class Car:\n",
    "    color = \"black\"\n",
    "    \n",
    "    @staticmethod\n",
    "    def start():\n",
    "        print(\"Car started\")\n",
    "    \n",
    "    @staticmethod\n",
    "    def stop():\n",
    "        print(\"Car stopped\")\n",
    "        \n",
    "        \n",
    "# inheritence\n",
    "class ToyotaCar(Car):\n",
    "    def __init__(self, name):\n",
    "        self.name = name\n",
    "        \n",
    "car1 = ToyotaCar(\"Fortuner\")\n",
    "car2 = ToyotaCar(\"Prius\")\n",
    "\n",
    "print(car1.name)\n",
    "car2.start()\n",
    "print(car2.color)"
   ]
  },
  {
   "cell_type": "code",
   "execution_count": 29,
   "id": "5b17137d",
   "metadata": {},
   "outputs": [],
   "source": [
    "class Car:\n",
    "    color = \"black\"\n",
    "    \n",
    "    @staticmethod\n",
    "    def start():\n",
    "        print(\"Car started\")\n",
    "    \n",
    "    @staticmethod\n",
    "    def stop():\n",
    "        print(\"Car stopped\")\n",
    "        \n",
    "        \n",
    "# inheritence\n",
    "class ToyotaCar(Car):\n",
    "    def __init__(self, brand):\n",
    "        self.brand = brand\n",
    "\n",
    "#         multilevel inheritence\n",
    "class Fortuner(ToyotaCar):\n",
    "    def __init__(self, type):\n",
    "        self.type = type\n",
    "\n",
    "class Prius(ToyotaCar):\n",
    "    def __init__(self, type):\n",
    "        self.type = type\n",
    "        \n",
    "car1 = Fortuner(\"diesel\")"
   ]
  },
  {
   "cell_type": "code",
   "execution_count": 30,
   "id": "8117cecf",
   "metadata": {},
   "outputs": [
    {
     "name": "stdout",
     "output_type": "stream",
     "text": [
      "Car started\n"
     ]
    }
   ],
   "source": [
    "car1.start()"
   ]
  },
  {
   "cell_type": "code",
   "execution_count": 31,
   "id": "f5e2d616",
   "metadata": {},
   "outputs": [],
   "source": [
    "class A:\n",
    "    varA = \"welcome to class A\"\n",
    "    \n",
    "class B:\n",
    "    varB = \"welcome to class B\""
   ]
  },
  {
   "cell_type": "code",
   "execution_count": 32,
   "id": "07e70b27",
   "metadata": {},
   "outputs": [],
   "source": [
    "class C(A, B):\n",
    "    varC = \"welcome to class C\""
   ]
  },
  {
   "cell_type": "code",
   "execution_count": 33,
   "id": "a9a1d163",
   "metadata": {},
   "outputs": [
    {
     "name": "stdout",
     "output_type": "stream",
     "text": [
      "welcome to class A\n",
      "welcome to class B\n",
      "welcome to class C\n"
     ]
    }
   ],
   "source": [
    "c1 = C()\n",
    "\n",
    "print(c1.varA)\n",
    "print(c1.varB)\n",
    "print(c1.varC)"
   ]
  },
  {
   "cell_type": "code",
   "execution_count": 36,
   "id": "cadbbfd2",
   "metadata": {},
   "outputs": [],
   "source": [
    "# class methods\n",
    "\n",
    "class Person:\n",
    "    name = \"anonymous\"\n",
    "    \n",
    "    @classmethod\n",
    "    def changeName(cls, name):\n",
    "        cls.name = name\n",
    "        # changing class variable(not instance variable)"
   ]
  },
  {
   "cell_type": "code",
   "execution_count": 37,
   "id": "0c457934",
   "metadata": {},
   "outputs": [
    {
     "name": "stdout",
     "output_type": "stream",
     "text": [
      "piyush\n",
      "piyush\n"
     ]
    }
   ],
   "source": [
    "p1 = Person()\n",
    "p1.changeName(\"piyush\")\n",
    "print(p1.name)\n",
    "print(Person.name)"
   ]
  },
  {
   "cell_type": "code",
   "execution_count": 47,
   "id": "c9f953b7",
   "metadata": {},
   "outputs": [
    {
     "name": "stdout",
     "output_type": "stream",
     "text": [
      "92.0%\n"
     ]
    }
   ],
   "source": [
    "class Student:\n",
    "    def __init__(self, phy, chem, math):\n",
    "        self.phy = phy\n",
    "        self.chem = chem\n",
    "        self.math = math\n",
    "        self.percentage = str((self.phy + self.math + self.chem) / 3) + \"%\"\n",
    "\n",
    "        \n",
    "    def calculatePerc(self):\n",
    "            self.percentage = str((self.phy + self.math + self.chem) / 3) + \"%\"\n",
    "\n",
    "        \n",
    "s1 = Student(90, 97, 89)\n",
    "print(s1.percentage)"
   ]
  },
  {
   "cell_type": "code",
   "execution_count": 48,
   "id": "5222c1b5",
   "metadata": {},
   "outputs": [
    {
     "name": "stdout",
     "output_type": "stream",
     "text": [
      "91.66666666666667%\n"
     ]
    }
   ],
   "source": [
    "s1.phy = 89\n",
    "s1.calculatePerc()\n",
    "print(s1.percentage)"
   ]
  },
  {
   "cell_type": "code",
   "execution_count": 52,
   "id": "7a3030eb",
   "metadata": {},
   "outputs": [
    {
     "name": "stdout",
     "output_type": "stream",
     "text": [
      "92.0%\n"
     ]
    }
   ],
   "source": [
    "class Student:\n",
    "    def __init__(self, phy, chem, math):\n",
    "        self.phy = phy\n",
    "        self.chem = chem\n",
    "        self.math = math\n",
    "        \n",
    "    @property\n",
    "    def percentage(self):\n",
    "        return str((self.phy + self.math + self.chem) / 3) + \"%\"\n",
    "            \n",
    "        \n",
    "s1 = Student(90, 97, 89)\n",
    "print(s1.percentage)"
   ]
  },
  {
   "cell_type": "code",
   "execution_count": 53,
   "id": "7ad0caf6",
   "metadata": {},
   "outputs": [
    {
     "name": "stdout",
     "output_type": "stream",
     "text": [
      "91.66666666666667%\n"
     ]
    }
   ],
   "source": [
    "s1.phy = 89\n",
    "print(s1.percentage)"
   ]
  },
  {
   "cell_type": "code",
   "execution_count": 58,
   "id": "2432b3f7",
   "metadata": {},
   "outputs": [
    {
     "name": "stdout",
     "output_type": "stream",
     "text": [
      "3\n",
      "Piyush Mehta \n",
      "[1, 2, 3, 8, 9, 10]\n"
     ]
    }
   ],
   "source": [
    "# polymorphism\n",
    "\n",
    "# operator overloading\n",
    "print(1 + 2)\n",
    "print(\"Piyush \" + \"Mehta \")\n",
    "print([1, 2, 3] + [8, 9, 10])"
   ]
  },
  {
   "cell_type": "code",
   "execution_count": 88,
   "id": "8cd6a7f3",
   "metadata": {},
   "outputs": [],
   "source": [
    "class Complex:\n",
    "    def __init__(self, real, img):\n",
    "        self.real = real\n",
    "        self.img = img\n",
    "    \n",
    "    def showNum(self):\n",
    "        print(f\"{self.real} + {self.img}i\")\n",
    "       \n",
    "\n",
    "    def __add__(self, num2):\n",
    "        a = (self.real + num2.real) \n",
    "        b = (self.img + num2.img)\n",
    "        return Complex(a, b)\n",
    "    \n",
    "    def __sub__(self, num2):\n",
    "        a = (self.real - num2.real) \n",
    "        b = (self.img - num2.img)\n",
    "        return Complex(a, b)"
   ]
  },
  {
   "cell_type": "code",
   "execution_count": 89,
   "id": "69a6d7c7",
   "metadata": {},
   "outputs": [
    {
     "name": "stdout",
     "output_type": "stream",
     "text": [
      "4 + -2i\n",
      "-3 + 3i\n",
      "-10 + 8i\n",
      "-3 + 3i\n"
     ]
    }
   ],
   "source": [
    "cn1 = Complex(4, -2)\n",
    "cn1.showNum()\n",
    "cn2 = Complex(-7, 5)\n",
    "# cn3 = cn1.add(cn2), before dunder function\n",
    "cn3.showNum()\n",
    "\n",
    "# after dunder fn\n",
    "cn4 = cn2 + cn3\n",
    "cn4.showNum()\n",
    "\n",
    "cn5 = cn4 - cn2\n",
    "cn5.showNum()"
   ]
  }
 ],
 "metadata": {
  "kernelspec": {
   "display_name": "Python 3 (ipykernel)",
   "language": "python",
   "name": "python3"
  },
  "language_info": {
   "codemirror_mode": {
    "name": "ipython",
    "version": 3
   },
   "file_extension": ".py",
   "mimetype": "text/x-python",
   "name": "python",
   "nbconvert_exporter": "python",
   "pygments_lexer": "ipython3",
   "version": "3.11.5"
  }
 },
 "nbformat": 4,
 "nbformat_minor": 5
}
