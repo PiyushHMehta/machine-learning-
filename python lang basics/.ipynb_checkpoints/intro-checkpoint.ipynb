{
 "cells": [
  {
   "cell_type": "code",
   "execution_count": 1,
   "id": "bb6b44d7",
   "metadata": {},
   "outputs": [
    {
     "name": "stdout",
     "output_type": "stream",
     "text": [
      "hello world\n"
     ]
    }
   ],
   "source": [
    "# hello world program\n",
    "print(\"hello world\")"
   ]
  },
  {
   "cell_type": "code",
   "execution_count": 2,
   "id": "34e58b0b",
   "metadata": {},
   "outputs": [
    {
     "name": "stdout",
     "output_type": "stream",
     "text": [
      "Piyush is 20 years old and studying Computer Science\n"
     ]
    }
   ],
   "source": [
    "# variables\n",
    "# do not have to define datatype\n",
    "\n",
    "name = \"Piyush\"\n",
    "age = 20\n",
    "education = \"Computer Science\"\n",
    "working = True\n",
    "\n",
    "# Convert age to string before concatenating\n",
    "print(name + \" is \" + str(age) + \" years old and studying \" + education)"
   ]
  },
  {
   "cell_type": "code",
   "execution_count": 3,
   "id": "94e74ffb",
   "metadata": {},
   "outputs": [
    {
     "name": "stdout",
     "output_type": "stream",
     "text": [
      "Ishika is 22 years old and studying Psychology\n"
     ]
    }
   ],
   "source": [
    "name = \"Ishika\"\n",
    "age = 22\n",
    "education = \"Psychology\"\n",
    "working = True\n",
    "print(name + \" is \" + str(age) + \" years old and studying \" + education)"
   ]
  },
  {
   "cell_type": "code",
   "execution_count": 4,
   "id": "6aed8b12",
   "metadata": {},
   "outputs": [
    {
     "name": "stdout",
     "output_type": "stream",
     "text": [
      "Enter your first name: Piyush\n",
      "Are you a genius: True\n",
      "Piyush is a genius\n"
     ]
    }
   ],
   "source": [
    "firstName = input(\"Enter your first name: \")\n",
    "genius = input(\"Are you a genius: \")\n",
    "\n",
    "if(genius == \"True\"):\n",
    "    print(firstName + \" is a genius\")\n",
    "else:\n",
    "    print(firstName + \" is not a genius\")"
   ]
  },
  {
   "cell_type": "code",
   "execution_count": 5,
   "id": "529ea678",
   "metadata": {},
   "outputs": [
    {
     "name": "stdout",
     "output_type": "stream",
     "text": [
      "Enter your old age: 20\n",
      "21\n"
     ]
    }
   ],
   "source": [
    "# type cast\n",
    "\n",
    "old_age = input(\"Enter your old age: \")\n",
    "new_age = int(old_age) + 1\n",
    "print(new_age)\n",
    "\n",
    "# The input() function returns a string, and you cannot directly add an integer to a string in Python.\n",
    "# You need to convert the input to an integer before performing the addition."
   ]
  },
  {
   "cell_type": "code",
   "execution_count": 6,
   "id": "f3329735",
   "metadata": {},
   "outputs": [
    {
     "name": "stdout",
     "output_type": "stream",
     "text": [
      "18.0\n"
     ]
    }
   ],
   "source": [
    "print(float(18))"
   ]
  },
  {
   "cell_type": "code",
   "execution_count": 7,
   "id": "85e439f5",
   "metadata": {},
   "outputs": [
    {
     "name": "stdout",
     "output_type": "stream",
     "text": [
      "Enter num 1: 34\n",
      "Enter num 2: 43\n",
      "Sum is: 77\n"
     ]
    }
   ],
   "source": [
    "# print sum of 2 nums\n",
    "\n",
    "num1 = input(\"Enter num 1: \")\n",
    "num2 = input(\"Enter num 2: \")\n",
    "sum = int(num1) + int(num2)\n",
    "print(\"Sum is: \" + str(sum))"
   ]
  },
  {
   "cell_type": "code",
   "execution_count": 8,
   "id": "ed42caad",
   "metadata": {},
   "outputs": [
    {
     "name": "stdout",
     "output_type": "stream",
     "text": [
      "Heisenberg\n",
      "HEISENBERG\n",
      "3\n",
      "-1\n",
      "heisenhower\n",
      "True\n"
     ]
    }
   ],
   "source": [
    "# strings\n",
    "\n",
    "name = \"heisenberg\"\n",
    "print(name.capitalize())\n",
    "print(name.upper())\n",
    "\n",
    "print(name.find(\"sen\"))   # 3\n",
    "print(name.find(\"seb\"))   # -1, \"seb\" substring doesn't exists\n",
    "\n",
    "print(name.replace(\"berg\", \"hower\"))   # only replaces if substr to be replaced exist\n",
    "\n",
    "print(\"berg\" in name)   # True if exists, False otherwise"
   ]
  },
  {
   "cell_type": "code",
   "execution_count": 9,
   "id": "985e0a9a",
   "metadata": {},
   "outputs": [
    {
     "name": "stdout",
     "output_type": "stream",
     "text": [
      "64\n",
      "1.972972972972973\n",
      "1\n",
      "38\n"
     ]
    }
   ],
   "source": [
    "# arithmetic operators\n",
    "\n",
    "print(4 ** 3)   # exponential\n",
    "print(73 / 37)\n",
    "print(73 // 37)  # rounding off\n",
    "print(257 % 73)  # modulo"
   ]
  },
  {
   "cell_type": "code",
   "execution_count": 10,
   "id": "ccac11c9",
   "metadata": {},
   "outputs": [
    {
     "name": "stdout",
     "output_type": "stream",
     "text": [
      "5\n",
      "7\n",
      "49\n",
      "4\n"
     ]
    }
   ],
   "source": [
    "i = 5\n",
    "print(i)\n",
    "i += 2\n",
    "print(i)\n",
    "i *= 7\n",
    "print(i)\n",
    "i %= 5\n",
    "print(i)"
   ]
  },
  {
   "cell_type": "code",
   "execution_count": 11,
   "id": "8c396080",
   "metadata": {},
   "outputs": [
    {
     "name": "stdout",
     "output_type": "stream",
     "text": [
      "274.5076923076923\n"
     ]
    }
   ],
   "source": [
    "result = 5 + (6 * 45) - 2 ** 5 / 65\n",
    "print(result)"
   ]
  },
  {
   "cell_type": "code",
   "execution_count": 12,
   "id": "35f73722",
   "metadata": {},
   "outputs": [
    {
     "name": "stdout",
     "output_type": "stream",
     "text": [
      "13\n"
     ]
    }
   ],
   "source": [
    "result = ~6 & 2 ^ 9 | 5\n",
    "print(result)"
   ]
  },
  {
   "cell_type": "code",
   "execution_count": 13,
   "id": "c9b7bd03",
   "metadata": {},
   "outputs": [
    {
     "name": "stdout",
     "output_type": "stream",
     "text": [
      "False\n",
      "True\n",
      "False\n",
      "True\n",
      "False\n"
     ]
    }
   ],
   "source": [
    "print(23 == \"23\")\n",
    "print(23 == 23)\n",
    "print(23 != 23)\n",
    "print(23 >= 23)\n",
    "print(23 < 23)"
   ]
  },
  {
   "cell_type": "code",
   "execution_count": 14,
   "id": "5f0f72b3",
   "metadata": {},
   "outputs": [
    {
     "name": "stdout",
     "output_type": "stream",
     "text": [
      "Enter your age: 89\n",
      "💀💀\n"
     ]
    }
   ],
   "source": [
    "age = input(\"Enter your age: \")\n",
    "\n",
    "if(int(age) >= 60):\n",
    "    print(\"💀💀\")\n",
    "elif(int(age) >= 18):\n",
    "    print(\"Adult\")\n",
    "else:\n",
    "    print(\"Teenage\")"
   ]
  },
  {
   "cell_type": "code",
   "execution_count": 20,
   "id": "03bdfbea",
   "metadata": {},
   "outputs": [
    {
     "name": "stdout",
     "output_type": "stream",
     "text": [
      "Enter first operand: 23\n",
      "Enter second operand: 23\n",
      "Enter operator: (\n",
      "Invalid operation\n"
     ]
    }
   ],
   "source": [
    "# calculator\n",
    "\n",
    "operand1 = input(\"Enter first operand: \")\n",
    "operand2 = input(\"Enter second operand: \")\n",
    "operator = input(\"Enter operator: \")\n",
    "\n",
    "result = None\n",
    "\n",
    "operand1 = int(operand1)\n",
    "operand2 = int(operand2)\n",
    "\n",
    "if(operator == \"+\"):\n",
    "    result = operand1 + operand2\n",
    "elif(operator == \"-\"):\n",
    "    result = operand1 - operand2\n",
    "elif(operator == \"*\"):\n",
    "    result = operand1 * operand2\n",
    "elif(operator == \"/\"):\n",
    "    result = operand1 / operand2\n",
    "elif(operator == \"%\"):\n",
    "    result = operand1 % operand2\n",
    "else:\n",
    "    print(\"Invalid operation\")\n",
    "    \n",
    "if result is not None:\n",
    "    print(\"Result is: \" + str(result))"
   ]
  },
  {
   "cell_type": "code",
   "execution_count": 24,
   "id": "b2f1f5a4",
   "metadata": {},
   "outputs": [
    {
     "name": "stdout",
     "output_type": "stream",
     "text": [
      "range(0, 5)\n"
     ]
    }
   ],
   "source": [
    "arr = range(5)   # 0 1 2 3 4\n",
    "print(arr)"
   ]
  },
  {
   "cell_type": "code",
   "execution_count": 29,
   "id": "f03a865d",
   "metadata": {},
   "outputs": [
    {
     "name": "stdout",
     "output_type": "stream",
     "text": [
      "100 99 98 97 96 95 94 93 92 91 90 89 88 87 86 85 84 83 82 81 80 79 78 77 76 75 74 73 72 71 70 69 68 67 66 65 64 63 62 61 60 59 58 57 56 55 54 53 52 51 50 49 48 47 46 45 44 43 42 41 40 39 38 37 36 35 34 33 32 31 30 29 28 27 26 25 24 23 22 21 20 19 18 17 16 15 14 13 12 11 10 9 8 7 6 5 4 3 2 1 "
     ]
    }
   ],
   "source": [
    "i = 100\n",
    "while i != 0:\n",
    "    print(i, end = \" \")\n",
    "    i -= 1"
   ]
  },
  {
   "cell_type": "code",
   "execution_count": 35,
   "id": "82d32de9",
   "metadata": {},
   "outputs": [
    {
     "name": "stdout",
     "output_type": "stream",
     "text": [
      "*****\n",
      "****\n",
      "***\n",
      "**\n",
      "*\n"
     ]
    }
   ],
   "source": [
    "for i in range(5, 0, -1):\n",
    "    print(i * \"*\")"
   ]
  },
  {
   "cell_type": "code",
   "execution_count": 52,
   "id": "5895e62d",
   "metadata": {},
   "outputs": [
    {
     "name": "stdout",
     "output_type": "stream",
     "text": [
      "NINE\n",
      "three\n",
      "[6]\n",
      "three 6 Mysterio NINE 😶 \n",
      "False\n"
     ]
    }
   ],
   "source": [
    "# list\n",
    "\n",
    "list = [\"three\", 6, \"NINE\"]\n",
    "print(list[-1])   # last item\n",
    "print(list[0])   # first item\n",
    "\n",
    "reducedList = list[1: 2]\n",
    "print(reducedList)\n",
    "\n",
    "list.append(\"😶\")\n",
    "list.insert(2, \"Mysterio\")\n",
    "\n",
    "for item in list:\n",
    "    print(item, end = \" \")\n",
    "print()\n",
    "    \n",
    "print(619 in list)"
   ]
  },
  {
   "cell_type": "code",
   "execution_count": 53,
   "id": "0b2f8173",
   "metadata": {},
   "outputs": [
    {
     "name": "stdout",
     "output_type": "stream",
     "text": [
      "apple banana cherry\n"
     ]
    }
   ],
   "source": [
    "fruits = [\"apple\", \"banana\", \"cherry\"]\n",
    "\n",
    "print(\" \".join(fruits))"
   ]
  },
  {
   "cell_type": "code",
   "execution_count": 57,
   "id": "ff717968",
   "metadata": {},
   "outputs": [
    {
     "name": "stdout",
     "output_type": "stream",
     "text": [
      "Mercury\n",
      "Venus\n"
     ]
    }
   ],
   "source": [
    "planets = [\"Mercury\", \"Venus\", \"Jupyter\", \"Uranus\", \"Saturn\"]\n",
    "\n",
    "for planet in planets:\n",
    "    if planet == \"Jupyter\":\n",
    "        continue\n",
    "    if planet == \"Uranus\":\n",
    "        break\n",
    "    print(planet)"
   ]
  },
  {
   "cell_type": "code",
   "execution_count": 62,
   "id": "4422039a",
   "metadata": {},
   "outputs": [
    {
     "name": "stdout",
     "output_type": "stream",
     "text": [
      "1\n",
      "2\n"
     ]
    }
   ],
   "source": [
    "# tuple\n",
    "\n",
    "marks = (28, 38, 98, 84, 38)\n",
    "# marks[0] = 37\n",
    "\n",
    "print(marks.count(84))\n",
    "print(marks.index(98))"
   ]
  },
  {
   "cell_type": "code",
   "execution_count": null,
   "id": "10266ea1",
   "metadata": {},
   "outputs": [],
   "source": []
  }
 ],
 "metadata": {
  "kernelspec": {
   "display_name": "Python 3 (ipykernel)",
   "language": "python",
   "name": "python3"
  },
  "language_info": {
   "codemirror_mode": {
    "name": "ipython",
    "version": 3
   },
   "file_extension": ".py",
   "mimetype": "text/x-python",
   "name": "python",
   "nbconvert_exporter": "python",
   "pygments_lexer": "ipython3",
   "version": "3.11.5"
  }
 },
 "nbformat": 4,
 "nbformat_minor": 5
}
